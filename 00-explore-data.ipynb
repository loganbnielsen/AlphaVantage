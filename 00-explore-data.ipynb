{
 "metadata": {
  "language_info": {
   "codemirror_mode": {
    "name": "ipython",
    "version": 3
   },
   "file_extension": ".py",
   "mimetype": "text/x-python",
   "name": "python",
   "nbconvert_exporter": "python",
   "pygments_lexer": "ipython3",
   "version": "3.8.5-final"
  },
  "orig_nbformat": 2,
  "kernelspec": {
   "name": "python3",
   "display_name": "Python 3",
   "language": "python"
  }
 },
 "nbformat": 4,
 "nbformat_minor": 2,
 "cells": [
  {
   "cell_type": "code",
   "execution_count": 2,
   "metadata": {},
   "outputs": [],
   "source": [
    "from datetime import timedelta\n",
    "import pandas as pd\n",
    "import numpy as np\n",
    "\n",
    "import matplotlib.pyplot as plt\n",
    "\n",
    "import tensorflow as tf"
   ]
  },
  {
   "cell_type": "code",
   "execution_count": 20,
   "metadata": {},
   "outputs": [
    {
     "output_type": "execute_result",
     "data": {
      "text/plain": [
       "                      date    open    high     low   close  volume ticker\n",
       "0      2019-03-21 07:11:00   10.50   10.50   10.50   10.50     500    GME\n",
       "1      2019-03-21 07:13:00   10.50   10.50   10.50   10.50    3500    GME\n",
       "2      2019-03-21 09:19:00   10.47   10.47   10.47   10.47    1020    GME\n",
       "3      2019-03-21 09:20:00   10.48   10.48   10.48   10.48     175    GME\n",
       "4      2019-03-21 09:21:00   10.47   10.47   10.47   10.47     400    GME\n",
       "...                    ...     ...     ...     ...     ...     ...    ...\n",
       "229152 2021-03-09 19:56:00  257.87  258.40  257.61  258.00    4958    GME\n",
       "229153 2021-03-09 19:57:00  258.00  258.40  257.69  257.90    5527    GME\n",
       "229154 2021-03-09 19:58:00  257.90  258.21  257.80  258.20    5245    GME\n",
       "229155 2021-03-09 19:59:00  258.20  259.01  258.05  259.01   11899    GME\n",
       "229156 2021-03-09 20:00:00  259.10  261.86  259.00  261.01   29053    GME\n",
       "\n",
       "[229157 rows x 7 columns]"
      ],
      "text/html": "<div>\n<style scoped>\n    .dataframe tbody tr th:only-of-type {\n        vertical-align: middle;\n    }\n\n    .dataframe tbody tr th {\n        vertical-align: top;\n    }\n\n    .dataframe thead th {\n        text-align: right;\n    }\n</style>\n<table border=\"1\" class=\"dataframe\">\n  <thead>\n    <tr style=\"text-align: right;\">\n      <th></th>\n      <th>date</th>\n      <th>open</th>\n      <th>high</th>\n      <th>low</th>\n      <th>close</th>\n      <th>volume</th>\n      <th>ticker</th>\n    </tr>\n  </thead>\n  <tbody>\n    <tr>\n      <th>0</th>\n      <td>2019-03-21 07:11:00</td>\n      <td>10.50</td>\n      <td>10.50</td>\n      <td>10.50</td>\n      <td>10.50</td>\n      <td>500</td>\n      <td>GME</td>\n    </tr>\n    <tr>\n      <th>1</th>\n      <td>2019-03-21 07:13:00</td>\n      <td>10.50</td>\n      <td>10.50</td>\n      <td>10.50</td>\n      <td>10.50</td>\n      <td>3500</td>\n      <td>GME</td>\n    </tr>\n    <tr>\n      <th>2</th>\n      <td>2019-03-21 09:19:00</td>\n      <td>10.47</td>\n      <td>10.47</td>\n      <td>10.47</td>\n      <td>10.47</td>\n      <td>1020</td>\n      <td>GME</td>\n    </tr>\n    <tr>\n      <th>3</th>\n      <td>2019-03-21 09:20:00</td>\n      <td>10.48</td>\n      <td>10.48</td>\n      <td>10.48</td>\n      <td>10.48</td>\n      <td>175</td>\n      <td>GME</td>\n    </tr>\n    <tr>\n      <th>4</th>\n      <td>2019-03-21 09:21:00</td>\n      <td>10.47</td>\n      <td>10.47</td>\n      <td>10.47</td>\n      <td>10.47</td>\n      <td>400</td>\n      <td>GME</td>\n    </tr>\n    <tr>\n      <th>...</th>\n      <td>...</td>\n      <td>...</td>\n      <td>...</td>\n      <td>...</td>\n      <td>...</td>\n      <td>...</td>\n      <td>...</td>\n    </tr>\n    <tr>\n      <th>229152</th>\n      <td>2021-03-09 19:56:00</td>\n      <td>257.87</td>\n      <td>258.40</td>\n      <td>257.61</td>\n      <td>258.00</td>\n      <td>4958</td>\n      <td>GME</td>\n    </tr>\n    <tr>\n      <th>229153</th>\n      <td>2021-03-09 19:57:00</td>\n      <td>258.00</td>\n      <td>258.40</td>\n      <td>257.69</td>\n      <td>257.90</td>\n      <td>5527</td>\n      <td>GME</td>\n    </tr>\n    <tr>\n      <th>229154</th>\n      <td>2021-03-09 19:58:00</td>\n      <td>257.90</td>\n      <td>258.21</td>\n      <td>257.80</td>\n      <td>258.20</td>\n      <td>5245</td>\n      <td>GME</td>\n    </tr>\n    <tr>\n      <th>229155</th>\n      <td>2021-03-09 19:59:00</td>\n      <td>258.20</td>\n      <td>259.01</td>\n      <td>258.05</td>\n      <td>259.01</td>\n      <td>11899</td>\n      <td>GME</td>\n    </tr>\n    <tr>\n      <th>229156</th>\n      <td>2021-03-09 20:00:00</td>\n      <td>259.10</td>\n      <td>261.86</td>\n      <td>259.00</td>\n      <td>261.01</td>\n      <td>29053</td>\n      <td>GME</td>\n    </tr>\n  </tbody>\n</table>\n<p>229157 rows × 7 columns</p>\n</div>"
     },
     "metadata": {},
     "execution_count": 20
    }
   ],
   "source": [
    "df = pd.read_csv(\"data/GME-20190321-20210309-1min.csv\", parse_dates=[\"date\"])\n",
    "df = df.drop(\"5. adjusted close\",1, errors=\"ignore\") # needed for daily data\n",
    "df.columns = [x[-1] for x in df.columns.str.split()]\n",
    "df"
   ]
  },
  {
   "cell_type": "code",
   "execution_count": 23,
   "metadata": {},
   "outputs": [
    {
     "output_type": "execute_result",
     "data": {
      "text/plain": [
       "                      date    open    high     low   close  volume ticker  \\\n",
       "0      2019-03-21 07:11:00   10.50   10.50   10.50   10.50     500    GME   \n",
       "1      2019-03-21 07:13:00   10.50   10.50   10.50   10.50    3500    GME   \n",
       "2      2019-03-21 09:19:00   10.47   10.47   10.47   10.47    1020    GME   \n",
       "3      2019-03-21 09:20:00   10.48   10.48   10.48   10.48     175    GME   \n",
       "4      2019-03-21 09:21:00   10.47   10.47   10.47   10.47     400    GME   \n",
       "...                    ...     ...     ...     ...     ...     ...    ...   \n",
       "229152 2021-03-09 19:56:00  257.87  258.40  257.61  258.00    4958    GME   \n",
       "229153 2021-03-09 19:57:00  258.00  258.40  257.69  257.90    5527    GME   \n",
       "229154 2021-03-09 19:58:00  257.90  258.21  257.80  258.20    5245    GME   \n",
       "229155 2021-03-09 19:59:00  258.20  259.01  258.05  259.01   11899    GME   \n",
       "229156 2021-03-09 20:00:00  259.10  261.86  259.00  261.01   29053    GME   \n",
       "\n",
       "        lag_open  lag_high  lag_low  lag_close  lag_volume  delta_perc_open  \\\n",
       "0            NaN       NaN      NaN        NaN         NaN              NaN   \n",
       "1          10.50     10.50    10.50      10.50       500.0         0.000000   \n",
       "2          10.50     10.50    10.50      10.50      3500.0        -0.285714   \n",
       "3          10.47     10.47    10.47      10.47      1020.0         0.095511   \n",
       "4          10.48     10.48    10.48      10.48       175.0        -0.095420   \n",
       "...          ...       ...      ...        ...         ...              ...   \n",
       "229152    258.36    258.36   257.72     257.89      3573.0        -0.189658   \n",
       "229153    257.87    258.40   257.61     258.00      4958.0         0.050413   \n",
       "229154    258.00    258.40   257.69     257.90      5527.0        -0.038760   \n",
       "229155    257.90    258.21   257.80     258.20      5245.0         0.116324   \n",
       "229156    258.20    259.01   258.05     259.01     11899.0         0.348567   \n",
       "\n",
       "        delta_perc_high  delta_perc_low  delta_perc_close  delta_perc_volume  \n",
       "0                   NaN             NaN               NaN                NaN  \n",
       "1              0.000000        0.000000          0.000000         600.000000  \n",
       "2             -0.285714       -0.285714         -0.285714         -70.857143  \n",
       "3              0.095511        0.095511          0.095511         -82.843137  \n",
       "4             -0.095420       -0.095420         -0.095420         128.571429  \n",
       "...                 ...             ...               ...                ...  \n",
       "229152         0.015482       -0.042682          0.042654          38.762944  \n",
       "229153         0.000000        0.031055         -0.038760          11.476402  \n",
       "229154        -0.073529        0.042687          0.116324          -5.102225  \n",
       "229155         0.309825        0.096974          0.313710         126.863680  \n",
       "229156         1.100344        0.368146          0.772171         144.163375  \n",
       "\n",
       "[229157 rows x 17 columns]"
      ],
      "text/html": "<div>\n<style scoped>\n    .dataframe tbody tr th:only-of-type {\n        vertical-align: middle;\n    }\n\n    .dataframe tbody tr th {\n        vertical-align: top;\n    }\n\n    .dataframe thead th {\n        text-align: right;\n    }\n</style>\n<table border=\"1\" class=\"dataframe\">\n  <thead>\n    <tr style=\"text-align: right;\">\n      <th></th>\n      <th>date</th>\n      <th>open</th>\n      <th>high</th>\n      <th>low</th>\n      <th>close</th>\n      <th>volume</th>\n      <th>ticker</th>\n      <th>lag_open</th>\n      <th>lag_high</th>\n      <th>lag_low</th>\n      <th>lag_close</th>\n      <th>lag_volume</th>\n      <th>delta_perc_open</th>\n      <th>delta_perc_high</th>\n      <th>delta_perc_low</th>\n      <th>delta_perc_close</th>\n      <th>delta_perc_volume</th>\n    </tr>\n  </thead>\n  <tbody>\n    <tr>\n      <th>0</th>\n      <td>2019-03-21 07:11:00</td>\n      <td>10.50</td>\n      <td>10.50</td>\n      <td>10.50</td>\n      <td>10.50</td>\n      <td>500</td>\n      <td>GME</td>\n      <td>NaN</td>\n      <td>NaN</td>\n      <td>NaN</td>\n      <td>NaN</td>\n      <td>NaN</td>\n      <td>NaN</td>\n      <td>NaN</td>\n      <td>NaN</td>\n      <td>NaN</td>\n      <td>NaN</td>\n    </tr>\n    <tr>\n      <th>1</th>\n      <td>2019-03-21 07:13:00</td>\n      <td>10.50</td>\n      <td>10.50</td>\n      <td>10.50</td>\n      <td>10.50</td>\n      <td>3500</td>\n      <td>GME</td>\n      <td>10.50</td>\n      <td>10.50</td>\n      <td>10.50</td>\n      <td>10.50</td>\n      <td>500.0</td>\n      <td>0.000000</td>\n      <td>0.000000</td>\n      <td>0.000000</td>\n      <td>0.000000</td>\n      <td>600.000000</td>\n    </tr>\n    <tr>\n      <th>2</th>\n      <td>2019-03-21 09:19:00</td>\n      <td>10.47</td>\n      <td>10.47</td>\n      <td>10.47</td>\n      <td>10.47</td>\n      <td>1020</td>\n      <td>GME</td>\n      <td>10.50</td>\n      <td>10.50</td>\n      <td>10.50</td>\n      <td>10.50</td>\n      <td>3500.0</td>\n      <td>-0.285714</td>\n      <td>-0.285714</td>\n      <td>-0.285714</td>\n      <td>-0.285714</td>\n      <td>-70.857143</td>\n    </tr>\n    <tr>\n      <th>3</th>\n      <td>2019-03-21 09:20:00</td>\n      <td>10.48</td>\n      <td>10.48</td>\n      <td>10.48</td>\n      <td>10.48</td>\n      <td>175</td>\n      <td>GME</td>\n      <td>10.47</td>\n      <td>10.47</td>\n      <td>10.47</td>\n      <td>10.47</td>\n      <td>1020.0</td>\n      <td>0.095511</td>\n      <td>0.095511</td>\n      <td>0.095511</td>\n      <td>0.095511</td>\n      <td>-82.843137</td>\n    </tr>\n    <tr>\n      <th>4</th>\n      <td>2019-03-21 09:21:00</td>\n      <td>10.47</td>\n      <td>10.47</td>\n      <td>10.47</td>\n      <td>10.47</td>\n      <td>400</td>\n      <td>GME</td>\n      <td>10.48</td>\n      <td>10.48</td>\n      <td>10.48</td>\n      <td>10.48</td>\n      <td>175.0</td>\n      <td>-0.095420</td>\n      <td>-0.095420</td>\n      <td>-0.095420</td>\n      <td>-0.095420</td>\n      <td>128.571429</td>\n    </tr>\n    <tr>\n      <th>...</th>\n      <td>...</td>\n      <td>...</td>\n      <td>...</td>\n      <td>...</td>\n      <td>...</td>\n      <td>...</td>\n      <td>...</td>\n      <td>...</td>\n      <td>...</td>\n      <td>...</td>\n      <td>...</td>\n      <td>...</td>\n      <td>...</td>\n      <td>...</td>\n      <td>...</td>\n      <td>...</td>\n      <td>...</td>\n    </tr>\n    <tr>\n      <th>229152</th>\n      <td>2021-03-09 19:56:00</td>\n      <td>257.87</td>\n      <td>258.40</td>\n      <td>257.61</td>\n      <td>258.00</td>\n      <td>4958</td>\n      <td>GME</td>\n      <td>258.36</td>\n      <td>258.36</td>\n      <td>257.72</td>\n      <td>257.89</td>\n      <td>3573.0</td>\n      <td>-0.189658</td>\n      <td>0.015482</td>\n      <td>-0.042682</td>\n      <td>0.042654</td>\n      <td>38.762944</td>\n    </tr>\n    <tr>\n      <th>229153</th>\n      <td>2021-03-09 19:57:00</td>\n      <td>258.00</td>\n      <td>258.40</td>\n      <td>257.69</td>\n      <td>257.90</td>\n      <td>5527</td>\n      <td>GME</td>\n      <td>257.87</td>\n      <td>258.40</td>\n      <td>257.61</td>\n      <td>258.00</td>\n      <td>4958.0</td>\n      <td>0.050413</td>\n      <td>0.000000</td>\n      <td>0.031055</td>\n      <td>-0.038760</td>\n      <td>11.476402</td>\n    </tr>\n    <tr>\n      <th>229154</th>\n      <td>2021-03-09 19:58:00</td>\n      <td>257.90</td>\n      <td>258.21</td>\n      <td>257.80</td>\n      <td>258.20</td>\n      <td>5245</td>\n      <td>GME</td>\n      <td>258.00</td>\n      <td>258.40</td>\n      <td>257.69</td>\n      <td>257.90</td>\n      <td>5527.0</td>\n      <td>-0.038760</td>\n      <td>-0.073529</td>\n      <td>0.042687</td>\n      <td>0.116324</td>\n      <td>-5.102225</td>\n    </tr>\n    <tr>\n      <th>229155</th>\n      <td>2021-03-09 19:59:00</td>\n      <td>258.20</td>\n      <td>259.01</td>\n      <td>258.05</td>\n      <td>259.01</td>\n      <td>11899</td>\n      <td>GME</td>\n      <td>257.90</td>\n      <td>258.21</td>\n      <td>257.80</td>\n      <td>258.20</td>\n      <td>5245.0</td>\n      <td>0.116324</td>\n      <td>0.309825</td>\n      <td>0.096974</td>\n      <td>0.313710</td>\n      <td>126.863680</td>\n    </tr>\n    <tr>\n      <th>229156</th>\n      <td>2021-03-09 20:00:00</td>\n      <td>259.10</td>\n      <td>261.86</td>\n      <td>259.00</td>\n      <td>261.01</td>\n      <td>29053</td>\n      <td>GME</td>\n      <td>258.20</td>\n      <td>259.01</td>\n      <td>258.05</td>\n      <td>259.01</td>\n      <td>11899.0</td>\n      <td>0.348567</td>\n      <td>1.100344</td>\n      <td>0.368146</td>\n      <td>0.772171</td>\n      <td>144.163375</td>\n    </tr>\n  </tbody>\n</table>\n<p>229157 rows × 17 columns</p>\n</div>"
     },
     "metadata": {},
     "execution_count": 23
    }
   ],
   "source": [
    "# features\n",
    "_vars = np.array([\"open\",\"high\",\"low\",\"close\",\"volume\"])\n",
    "_lag_vars = np.char.add(\"lag_\", _vars)\n",
    "df[_lag_vars] = df.groupby(\"ticker\")[_vars].shift()\n",
    "df[np.char.add(\"delta_perc_\" ,_vars)] = (df[_vars] - df[_lag_vars].values) / df[_lag_vars].values * 100\n",
    "\n",
    "# TODO train, val, test\n",
    "df"
   ]
  },
  {
   "cell_type": "code",
   "execution_count": null,
   "metadata": {},
   "outputs": [],
   "source": []
  }
 ]
}