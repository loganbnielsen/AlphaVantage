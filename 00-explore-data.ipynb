{
 "metadata": {
  "language_info": {
   "codemirror_mode": {
    "name": "ipython",
    "version": 3
   },
   "file_extension": ".py",
   "mimetype": "text/x-python",
   "name": "python",
   "nbconvert_exporter": "python",
   "pygments_lexer": "ipython3",
   "version": "3.8.5-final"
  },
  "orig_nbformat": 2,
  "kernelspec": {
   "name": "python3",
   "display_name": "Python 3",
   "language": "python"
  }
 },
 "nbformat": 4,
 "nbformat_minor": 2,
 "cells": [
  {
   "cell_type": "code",
   "execution_count": 5,
   "metadata": {},
   "outputs": [
    {
     "output_type": "stream",
     "name": "stderr",
     "text": [
      "<ipython-input-5-d4f2766443ac>:10: UserWarning: registration of accessor <class '__main__.Functions'> under name 'ts' for type <class 'pandas.core.frame.DataFrame'> is overriding a preexisting attribute with the same name.\n  class Functions:\n"
     ]
    }
   ],
   "source": [
    "from datetime import timedelta\n",
    "import pandas as pd\n",
    "import numpy as np\n",
    "\n",
    "import matplotlib.pyplot as plt\n",
    "\n",
    "import tensorflow as tf\n",
    "\n",
    "@pd.api.extensions.register_dataframe_accessor(\"ts\")\n",
    "class Functions:\n",
    "    def __init__(self, pandas_obj):\n",
    "        self._validate(pandas_obj)\n",
    "        self._obj = pandas_obj.sort_values(\"date\")\n",
    "\n",
    "    @staticmethod\n",
    "    def _validate(obj):\n",
    "        _required_columns = [\"date\",\"ticker\"]\n",
    "        for _col in _required_columns:\n",
    "            if _col not in obj.columns:\n",
    "                raise AttributeError(f\"Must have '{_col}'.\")\n",
    "\n",
    "    def _add_cols(self, _delta_perc_cols):\n",
    "        cols = _delta_perc_cols.columns\n",
    "        self._obj[cols] = _delta_perc_cols\n",
    "        return self._obj\n",
    "\n",
    "\n",
    "    def create_delta_perc_vars(self, columns, lag=1, join=False, merge_date=False):\n",
    "        _vars = np.array(columns)\n",
    "        _lagged_cols = self.create_lagged_vars(columns, lag)\n",
    "        _delta_perc_cols = (self._obj[columns] -_lagged_cols.values) / _lagged_cols.values * 100\n",
    "        _delta_perc_cols.columns = np.char.add(f\"delta{lag}_perc_\" ,_vars)\n",
    "        res = self._add_cols(_delta_perc_cols) if join else _delta_perc_cols\n",
    "        if merge_date:\n",
    "            res['date'] = self._obj['date']\n",
    "        return res\n",
    "\n",
    "    def create_lagged_vars(self, columns, lag=1, join=False, merge_date=False):\n",
    "        _vars = np.array(columns)\n",
    "        _lagged_cols = self._obj.groupby(\"ticker\")[_vars].shift(lag)\n",
    "        _lagged_cols.columns = np.char.add(\"lag_\", _vars)\n",
    "        res = self._add_cols(_lagged_cols) if join else _lagged_cols\n",
    "        if merge_date:\n",
    "            res['date'] = self._obj['date']\n",
    "        return res\n",
    "\n",
    "    def split(self, ratio=[3/4, 1/8, 1/8]):\n",
    "        assert sum(ratio) == 1\n",
    "        splits = np.array(ratio)\n",
    "        obs = len(self._obj) * splits\n",
    "        cuts = np.cumsum(obs).astype(int)\n",
    "        frames = []\n",
    "        prev=None\n",
    "        for end in cuts:\n",
    "            frames.append(self._obj.iloc[prev:end])\n",
    "            prev = end\n",
    "        return frames\n",
    "\n",
    "\n",
    "def load_df(f):\n",
    "    df = pd.read_csv(\"data/GME-20190321-20210309-1min.csv\", parse_dates=[\"date\"])\n",
    "    df = df.drop(\"5. adjusted close\",1, errors=\"ignore\") # needed for daily data\n",
    "    df.columns = [x[-1] for x in df.columns.str.split()]\n",
    "    return df"
   ]
  },
  {
   "cell_type": "code",
   "execution_count": 6,
   "metadata": {},
   "outputs": [
    {
     "output_type": "execute_result",
     "data": {
      "text/plain": [
       "                      date    open    high     low   close  volume ticker\n",
       "0      2019-03-21 07:11:00   10.50   10.50   10.50   10.50     500    GME\n",
       "1      2019-03-21 07:13:00   10.50   10.50   10.50   10.50    3500    GME\n",
       "2      2019-03-21 09:19:00   10.47   10.47   10.47   10.47    1020    GME\n",
       "3      2019-03-21 09:20:00   10.48   10.48   10.48   10.48     175    GME\n",
       "4      2019-03-21 09:21:00   10.47   10.47   10.47   10.47     400    GME\n",
       "...                    ...     ...     ...     ...     ...     ...    ...\n",
       "229152 2021-03-09 19:56:00  257.87  258.40  257.61  258.00    4958    GME\n",
       "229153 2021-03-09 19:57:00  258.00  258.40  257.69  257.90    5527    GME\n",
       "229154 2021-03-09 19:58:00  257.90  258.21  257.80  258.20    5245    GME\n",
       "229155 2021-03-09 19:59:00  258.20  259.01  258.05  259.01   11899    GME\n",
       "229156 2021-03-09 20:00:00  259.10  261.86  259.00  261.01   29053    GME\n",
       "\n",
       "[229157 rows x 7 columns]"
      ],
      "text/html": "<div>\n<style scoped>\n    .dataframe tbody tr th:only-of-type {\n        vertical-align: middle;\n    }\n\n    .dataframe tbody tr th {\n        vertical-align: top;\n    }\n\n    .dataframe thead th {\n        text-align: right;\n    }\n</style>\n<table border=\"1\" class=\"dataframe\">\n  <thead>\n    <tr style=\"text-align: right;\">\n      <th></th>\n      <th>date</th>\n      <th>open</th>\n      <th>high</th>\n      <th>low</th>\n      <th>close</th>\n      <th>volume</th>\n      <th>ticker</th>\n    </tr>\n  </thead>\n  <tbody>\n    <tr>\n      <th>0</th>\n      <td>2019-03-21 07:11:00</td>\n      <td>10.50</td>\n      <td>10.50</td>\n      <td>10.50</td>\n      <td>10.50</td>\n      <td>500</td>\n      <td>GME</td>\n    </tr>\n    <tr>\n      <th>1</th>\n      <td>2019-03-21 07:13:00</td>\n      <td>10.50</td>\n      <td>10.50</td>\n      <td>10.50</td>\n      <td>10.50</td>\n      <td>3500</td>\n      <td>GME</td>\n    </tr>\n    <tr>\n      <th>2</th>\n      <td>2019-03-21 09:19:00</td>\n      <td>10.47</td>\n      <td>10.47</td>\n      <td>10.47</td>\n      <td>10.47</td>\n      <td>1020</td>\n      <td>GME</td>\n    </tr>\n    <tr>\n      <th>3</th>\n      <td>2019-03-21 09:20:00</td>\n      <td>10.48</td>\n      <td>10.48</td>\n      <td>10.48</td>\n      <td>10.48</td>\n      <td>175</td>\n      <td>GME</td>\n    </tr>\n    <tr>\n      <th>4</th>\n      <td>2019-03-21 09:21:00</td>\n      <td>10.47</td>\n      <td>10.47</td>\n      <td>10.47</td>\n      <td>10.47</td>\n      <td>400</td>\n      <td>GME</td>\n    </tr>\n    <tr>\n      <th>...</th>\n      <td>...</td>\n      <td>...</td>\n      <td>...</td>\n      <td>...</td>\n      <td>...</td>\n      <td>...</td>\n      <td>...</td>\n    </tr>\n    <tr>\n      <th>229152</th>\n      <td>2021-03-09 19:56:00</td>\n      <td>257.87</td>\n      <td>258.40</td>\n      <td>257.61</td>\n      <td>258.00</td>\n      <td>4958</td>\n      <td>GME</td>\n    </tr>\n    <tr>\n      <th>229153</th>\n      <td>2021-03-09 19:57:00</td>\n      <td>258.00</td>\n      <td>258.40</td>\n      <td>257.69</td>\n      <td>257.90</td>\n      <td>5527</td>\n      <td>GME</td>\n    </tr>\n    <tr>\n      <th>229154</th>\n      <td>2021-03-09 19:58:00</td>\n      <td>257.90</td>\n      <td>258.21</td>\n      <td>257.80</td>\n      <td>258.20</td>\n      <td>5245</td>\n      <td>GME</td>\n    </tr>\n    <tr>\n      <th>229155</th>\n      <td>2021-03-09 19:59:00</td>\n      <td>258.20</td>\n      <td>259.01</td>\n      <td>258.05</td>\n      <td>259.01</td>\n      <td>11899</td>\n      <td>GME</td>\n    </tr>\n    <tr>\n      <th>229156</th>\n      <td>2021-03-09 20:00:00</td>\n      <td>259.10</td>\n      <td>261.86</td>\n      <td>259.00</td>\n      <td>261.01</td>\n      <td>29053</td>\n      <td>GME</td>\n    </tr>\n  </tbody>\n</table>\n<p>229157 rows × 7 columns</p>\n</div>"
     },
     "metadata": {},
     "execution_count": 6
    }
   ],
   "source": [
    "f = \"data/GME-20190321-20210309-1min.csv\"\n",
    "df = load_df(f)\n",
    "df"
   ]
  },
  {
   "cell_type": "code",
   "execution_count": 7,
   "metadata": {},
   "outputs": [
    {
     "output_type": "execute_result",
     "data": {
      "text/plain": [
       "                      date    open    high     low   close  volume ticker  \\\n",
       "0      2019-03-21 07:11:00   10.50   10.50   10.50   10.50     500    GME   \n",
       "1      2019-03-21 07:13:00   10.50   10.50   10.50   10.50    3500    GME   \n",
       "2      2019-03-21 09:19:00   10.47   10.47   10.47   10.47    1020    GME   \n",
       "3      2019-03-21 09:20:00   10.48   10.48   10.48   10.48     175    GME   \n",
       "4      2019-03-21 09:21:00   10.47   10.47   10.47   10.47     400    GME   \n",
       "...                    ...     ...     ...     ...     ...     ...    ...   \n",
       "229152 2021-03-09 19:56:00  257.87  258.40  257.61  258.00    4958    GME   \n",
       "229153 2021-03-09 19:57:00  258.00  258.40  257.69  257.90    5527    GME   \n",
       "229154 2021-03-09 19:58:00  257.90  258.21  257.80  258.20    5245    GME   \n",
       "229155 2021-03-09 19:59:00  258.20  259.01  258.05  259.01   11899    GME   \n",
       "229156 2021-03-09 20:00:00  259.10  261.86  259.00  261.01   29053    GME   \n",
       "\n",
       "        delta1_perc_open  delta1_perc_high  delta1_perc_low  \\\n",
       "0                    NaN               NaN              NaN   \n",
       "1               0.000000          0.000000         0.000000   \n",
       "2              -0.285714         -0.285714        -0.285714   \n",
       "3               0.095511          0.095511         0.095511   \n",
       "4              -0.095420         -0.095420        -0.095420   \n",
       "...                  ...               ...              ...   \n",
       "229152         -0.189658          0.015482        -0.042682   \n",
       "229153          0.050413          0.000000         0.031055   \n",
       "229154         -0.038760         -0.073529         0.042687   \n",
       "229155          0.116324          0.309825         0.096974   \n",
       "229156          0.348567          1.100344         0.368146   \n",
       "\n",
       "        delta1_perc_close  delta1_perc_volume  \n",
       "0                     NaN                 NaN  \n",
       "1                0.000000          600.000000  \n",
       "2               -0.285714          -70.857143  \n",
       "3                0.095511          -82.843137  \n",
       "4               -0.095420          128.571429  \n",
       "...                   ...                 ...  \n",
       "229152           0.042654           38.762944  \n",
       "229153          -0.038760           11.476402  \n",
       "229154           0.116324           -5.102225  \n",
       "229155           0.313710          126.863680  \n",
       "229156           0.772171          144.163375  \n",
       "\n",
       "[229157 rows x 12 columns]"
      ],
      "text/html": "<div>\n<style scoped>\n    .dataframe tbody tr th:only-of-type {\n        vertical-align: middle;\n    }\n\n    .dataframe tbody tr th {\n        vertical-align: top;\n    }\n\n    .dataframe thead th {\n        text-align: right;\n    }\n</style>\n<table border=\"1\" class=\"dataframe\">\n  <thead>\n    <tr style=\"text-align: right;\">\n      <th></th>\n      <th>date</th>\n      <th>open</th>\n      <th>high</th>\n      <th>low</th>\n      <th>close</th>\n      <th>volume</th>\n      <th>ticker</th>\n      <th>delta1_perc_open</th>\n      <th>delta1_perc_high</th>\n      <th>delta1_perc_low</th>\n      <th>delta1_perc_close</th>\n      <th>delta1_perc_volume</th>\n    </tr>\n  </thead>\n  <tbody>\n    <tr>\n      <th>0</th>\n      <td>2019-03-21 07:11:00</td>\n      <td>10.50</td>\n      <td>10.50</td>\n      <td>10.50</td>\n      <td>10.50</td>\n      <td>500</td>\n      <td>GME</td>\n      <td>NaN</td>\n      <td>NaN</td>\n      <td>NaN</td>\n      <td>NaN</td>\n      <td>NaN</td>\n    </tr>\n    <tr>\n      <th>1</th>\n      <td>2019-03-21 07:13:00</td>\n      <td>10.50</td>\n      <td>10.50</td>\n      <td>10.50</td>\n      <td>10.50</td>\n      <td>3500</td>\n      <td>GME</td>\n      <td>0.000000</td>\n      <td>0.000000</td>\n      <td>0.000000</td>\n      <td>0.000000</td>\n      <td>600.000000</td>\n    </tr>\n    <tr>\n      <th>2</th>\n      <td>2019-03-21 09:19:00</td>\n      <td>10.47</td>\n      <td>10.47</td>\n      <td>10.47</td>\n      <td>10.47</td>\n      <td>1020</td>\n      <td>GME</td>\n      <td>-0.285714</td>\n      <td>-0.285714</td>\n      <td>-0.285714</td>\n      <td>-0.285714</td>\n      <td>-70.857143</td>\n    </tr>\n    <tr>\n      <th>3</th>\n      <td>2019-03-21 09:20:00</td>\n      <td>10.48</td>\n      <td>10.48</td>\n      <td>10.48</td>\n      <td>10.48</td>\n      <td>175</td>\n      <td>GME</td>\n      <td>0.095511</td>\n      <td>0.095511</td>\n      <td>0.095511</td>\n      <td>0.095511</td>\n      <td>-82.843137</td>\n    </tr>\n    <tr>\n      <th>4</th>\n      <td>2019-03-21 09:21:00</td>\n      <td>10.47</td>\n      <td>10.47</td>\n      <td>10.47</td>\n      <td>10.47</td>\n      <td>400</td>\n      <td>GME</td>\n      <td>-0.095420</td>\n      <td>-0.095420</td>\n      <td>-0.095420</td>\n      <td>-0.095420</td>\n      <td>128.571429</td>\n    </tr>\n    <tr>\n      <th>...</th>\n      <td>...</td>\n      <td>...</td>\n      <td>...</td>\n      <td>...</td>\n      <td>...</td>\n      <td>...</td>\n      <td>...</td>\n      <td>...</td>\n      <td>...</td>\n      <td>...</td>\n      <td>...</td>\n      <td>...</td>\n    </tr>\n    <tr>\n      <th>229152</th>\n      <td>2021-03-09 19:56:00</td>\n      <td>257.87</td>\n      <td>258.40</td>\n      <td>257.61</td>\n      <td>258.00</td>\n      <td>4958</td>\n      <td>GME</td>\n      <td>-0.189658</td>\n      <td>0.015482</td>\n      <td>-0.042682</td>\n      <td>0.042654</td>\n      <td>38.762944</td>\n    </tr>\n    <tr>\n      <th>229153</th>\n      <td>2021-03-09 19:57:00</td>\n      <td>258.00</td>\n      <td>258.40</td>\n      <td>257.69</td>\n      <td>257.90</td>\n      <td>5527</td>\n      <td>GME</td>\n      <td>0.050413</td>\n      <td>0.000000</td>\n      <td>0.031055</td>\n      <td>-0.038760</td>\n      <td>11.476402</td>\n    </tr>\n    <tr>\n      <th>229154</th>\n      <td>2021-03-09 19:58:00</td>\n      <td>257.90</td>\n      <td>258.21</td>\n      <td>257.80</td>\n      <td>258.20</td>\n      <td>5245</td>\n      <td>GME</td>\n      <td>-0.038760</td>\n      <td>-0.073529</td>\n      <td>0.042687</td>\n      <td>0.116324</td>\n      <td>-5.102225</td>\n    </tr>\n    <tr>\n      <th>229155</th>\n      <td>2021-03-09 19:59:00</td>\n      <td>258.20</td>\n      <td>259.01</td>\n      <td>258.05</td>\n      <td>259.01</td>\n      <td>11899</td>\n      <td>GME</td>\n      <td>0.116324</td>\n      <td>0.309825</td>\n      <td>0.096974</td>\n      <td>0.313710</td>\n      <td>126.863680</td>\n    </tr>\n    <tr>\n      <th>229156</th>\n      <td>2021-03-09 20:00:00</td>\n      <td>259.10</td>\n      <td>261.86</td>\n      <td>259.00</td>\n      <td>261.01</td>\n      <td>29053</td>\n      <td>GME</td>\n      <td>0.348567</td>\n      <td>1.100344</td>\n      <td>0.368146</td>\n      <td>0.772171</td>\n      <td>144.163375</td>\n    </tr>\n  </tbody>\n</table>\n<p>229157 rows × 12 columns</p>\n</div>"
     },
     "metadata": {},
     "execution_count": 7
    }
   ],
   "source": [
    "cols = [\"open\",\"high\",\"low\",\"close\",\"volume\"]\n",
    "df = df.ts.create_delta_perc_vars(cols, join=True)\n",
    "df"
   ]
  },
  {
   "cell_type": "code",
   "execution_count": 11,
   "metadata": {},
   "outputs": [
    {
     "output_type": "execute_result",
     "data": {
      "text/plain": [
       "                      date     open     high      low    close  volume ticker  \\\n",
       "0      2019-03-21 07:11:00  10.5000  10.5000  10.5000  10.5000     500    GME   \n",
       "1      2019-03-21 07:13:00  10.5000  10.5000  10.5000  10.5000    3500    GME   \n",
       "2      2019-03-21 09:19:00  10.4700  10.4700  10.4700  10.4700    1020    GME   \n",
       "3      2019-03-21 09:20:00  10.4800  10.4800  10.4800  10.4800     175    GME   \n",
       "4      2019-03-21 09:21:00  10.4700  10.4700  10.4700  10.4700     400    GME   \n",
       "...                    ...      ...      ...      ...      ...     ...    ...   \n",
       "171862 2020-10-29 12:27:00  11.9100  11.9199  11.9100  11.9189    2175    GME   \n",
       "171863 2020-10-29 12:28:00  11.9083  11.9083  11.8999  11.8999    3441    GME   \n",
       "171864 2020-10-29 12:29:00  11.8950  11.9000  11.8725  11.8770    6999    GME   \n",
       "171865 2020-10-29 12:30:00  11.8700  11.8800  11.8600  11.8800    5158    GME   \n",
       "171866 2020-10-29 12:31:00  11.8850  11.8850  11.8800  11.8850    4287    GME   \n",
       "\n",
       "        delta1_perc_open  delta1_perc_high  delta1_perc_low  \\\n",
       "0                    NaN               NaN              NaN   \n",
       "1               0.000000          0.000000         0.000000   \n",
       "2              -0.285714         -0.285714        -0.285714   \n",
       "3               0.095511          0.095511         0.095511   \n",
       "4              -0.095420         -0.095420        -0.095420   \n",
       "...                  ...               ...              ...   \n",
       "171862         -0.083893         -0.000839         0.000000   \n",
       "171863         -0.014274         -0.097316        -0.084803   \n",
       "171864         -0.111687         -0.069699        -0.230254   \n",
       "171865         -0.210172         -0.168067        -0.105285   \n",
       "171866          0.126369          0.042088         0.168634   \n",
       "\n",
       "        delta1_perc_close  delta1_perc_volume  \n",
       "0                     NaN                 NaN  \n",
       "1                0.000000          600.000000  \n",
       "2               -0.285714          -70.857143  \n",
       "3                0.095511          -82.843137  \n",
       "4               -0.095420          128.571429  \n",
       "...                   ...                 ...  \n",
       "171862           0.074727            5.942523  \n",
       "171863          -0.159411           58.206897  \n",
       "171864          -0.192439          103.400174  \n",
       "171865           0.025259          -26.303758  \n",
       "171866           0.042088          -16.886390  \n",
       "\n",
       "[171867 rows x 12 columns]"
      ],
      "text/html": "<div>\n<style scoped>\n    .dataframe tbody tr th:only-of-type {\n        vertical-align: middle;\n    }\n\n    .dataframe tbody tr th {\n        vertical-align: top;\n    }\n\n    .dataframe thead th {\n        text-align: right;\n    }\n</style>\n<table border=\"1\" class=\"dataframe\">\n  <thead>\n    <tr style=\"text-align: right;\">\n      <th></th>\n      <th>date</th>\n      <th>open</th>\n      <th>high</th>\n      <th>low</th>\n      <th>close</th>\n      <th>volume</th>\n      <th>ticker</th>\n      <th>delta1_perc_open</th>\n      <th>delta1_perc_high</th>\n      <th>delta1_perc_low</th>\n      <th>delta1_perc_close</th>\n      <th>delta1_perc_volume</th>\n    </tr>\n  </thead>\n  <tbody>\n    <tr>\n      <th>0</th>\n      <td>2019-03-21 07:11:00</td>\n      <td>10.5000</td>\n      <td>10.5000</td>\n      <td>10.5000</td>\n      <td>10.5000</td>\n      <td>500</td>\n      <td>GME</td>\n      <td>NaN</td>\n      <td>NaN</td>\n      <td>NaN</td>\n      <td>NaN</td>\n      <td>NaN</td>\n    </tr>\n    <tr>\n      <th>1</th>\n      <td>2019-03-21 07:13:00</td>\n      <td>10.5000</td>\n      <td>10.5000</td>\n      <td>10.5000</td>\n      <td>10.5000</td>\n      <td>3500</td>\n      <td>GME</td>\n      <td>0.000000</td>\n      <td>0.000000</td>\n      <td>0.000000</td>\n      <td>0.000000</td>\n      <td>600.000000</td>\n    </tr>\n    <tr>\n      <th>2</th>\n      <td>2019-03-21 09:19:00</td>\n      <td>10.4700</td>\n      <td>10.4700</td>\n      <td>10.4700</td>\n      <td>10.4700</td>\n      <td>1020</td>\n      <td>GME</td>\n      <td>-0.285714</td>\n      <td>-0.285714</td>\n      <td>-0.285714</td>\n      <td>-0.285714</td>\n      <td>-70.857143</td>\n    </tr>\n    <tr>\n      <th>3</th>\n      <td>2019-03-21 09:20:00</td>\n      <td>10.4800</td>\n      <td>10.4800</td>\n      <td>10.4800</td>\n      <td>10.4800</td>\n      <td>175</td>\n      <td>GME</td>\n      <td>0.095511</td>\n      <td>0.095511</td>\n      <td>0.095511</td>\n      <td>0.095511</td>\n      <td>-82.843137</td>\n    </tr>\n    <tr>\n      <th>4</th>\n      <td>2019-03-21 09:21:00</td>\n      <td>10.4700</td>\n      <td>10.4700</td>\n      <td>10.4700</td>\n      <td>10.4700</td>\n      <td>400</td>\n      <td>GME</td>\n      <td>-0.095420</td>\n      <td>-0.095420</td>\n      <td>-0.095420</td>\n      <td>-0.095420</td>\n      <td>128.571429</td>\n    </tr>\n    <tr>\n      <th>...</th>\n      <td>...</td>\n      <td>...</td>\n      <td>...</td>\n      <td>...</td>\n      <td>...</td>\n      <td>...</td>\n      <td>...</td>\n      <td>...</td>\n      <td>...</td>\n      <td>...</td>\n      <td>...</td>\n      <td>...</td>\n    </tr>\n    <tr>\n      <th>171862</th>\n      <td>2020-10-29 12:27:00</td>\n      <td>11.9100</td>\n      <td>11.9199</td>\n      <td>11.9100</td>\n      <td>11.9189</td>\n      <td>2175</td>\n      <td>GME</td>\n      <td>-0.083893</td>\n      <td>-0.000839</td>\n      <td>0.000000</td>\n      <td>0.074727</td>\n      <td>5.942523</td>\n    </tr>\n    <tr>\n      <th>171863</th>\n      <td>2020-10-29 12:28:00</td>\n      <td>11.9083</td>\n      <td>11.9083</td>\n      <td>11.8999</td>\n      <td>11.8999</td>\n      <td>3441</td>\n      <td>GME</td>\n      <td>-0.014274</td>\n      <td>-0.097316</td>\n      <td>-0.084803</td>\n      <td>-0.159411</td>\n      <td>58.206897</td>\n    </tr>\n    <tr>\n      <th>171864</th>\n      <td>2020-10-29 12:29:00</td>\n      <td>11.8950</td>\n      <td>11.9000</td>\n      <td>11.8725</td>\n      <td>11.8770</td>\n      <td>6999</td>\n      <td>GME</td>\n      <td>-0.111687</td>\n      <td>-0.069699</td>\n      <td>-0.230254</td>\n      <td>-0.192439</td>\n      <td>103.400174</td>\n    </tr>\n    <tr>\n      <th>171865</th>\n      <td>2020-10-29 12:30:00</td>\n      <td>11.8700</td>\n      <td>11.8800</td>\n      <td>11.8600</td>\n      <td>11.8800</td>\n      <td>5158</td>\n      <td>GME</td>\n      <td>-0.210172</td>\n      <td>-0.168067</td>\n      <td>-0.105285</td>\n      <td>0.025259</td>\n      <td>-26.303758</td>\n    </tr>\n    <tr>\n      <th>171866</th>\n      <td>2020-10-29 12:31:00</td>\n      <td>11.8850</td>\n      <td>11.8850</td>\n      <td>11.8800</td>\n      <td>11.8850</td>\n      <td>4287</td>\n      <td>GME</td>\n      <td>0.126369</td>\n      <td>0.042088</td>\n      <td>0.168634</td>\n      <td>0.042088</td>\n      <td>-16.886390</td>\n    </tr>\n  </tbody>\n</table>\n<p>171867 rows × 12 columns</p>\n</div>"
     },
     "metadata": {},
     "execution_count": 11
    }
   ],
   "source": [
    "train_df, val_df, test_df = df2.ts.split()\n",
    "train_df"
   ]
  },
  {
   "cell_type": "code",
   "execution_count": null,
   "metadata": {},
   "outputs": [],
   "source": []
  }
 ]
}